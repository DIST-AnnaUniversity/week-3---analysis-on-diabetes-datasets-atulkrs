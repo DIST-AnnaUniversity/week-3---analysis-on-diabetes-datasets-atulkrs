{
  "nbformat": 4,
  "nbformat_minor": 0,
  "metadata": {
    "colab": {
      "provenance": []
    },
    "kernelspec": {
      "name": "python3",
      "display_name": "Python 3"
    },
    "language_info": {
      "name": "python"
    }
  },
  "cells": [
    {
      "cell_type": "markdown",
      "source": [
        "# **DIABETES DATA ANALYSIS**\n",
        "\n",
        "**--->  Descriptive statistics on this dataset**"
      ],
      "metadata": {
        "id": "fdRBeWIoIeeh"
      }
    },
    {
      "cell_type": "code",
      "source": [
        "import pandas as pd\n",
        "import numpy as np\n",
        "import matplotlib.pyplot as plt\n",
        "import seaborn as sb\n",
        "from google.colab import drive"
      ],
      "metadata": {
        "id": "3g0l_NQeCELg"
      },
      "execution_count": 76,
      "outputs": []
    },
    {
      "cell_type": "code",
      "source": [
        "import pandas as pd\n",
        "\n",
        "dataset=pd.read_csv('/content/data-26',sep='\\t')"
      ],
      "metadata": {
        "id": "R0RXFCQjCk8H"
      },
      "execution_count": 77,
      "outputs": []
    },
    {
      "cell_type": "code",
      "source": [
        "dataset.head()"
      ],
      "metadata": {
        "colab": {
          "base_uri": "https://localhost:8080/",
          "height": 206
        },
        "id": "TPIMPQsADDwe",
        "outputId": "e3f57c1c-7abf-4dab-f3d7-d1d0dfbb3d2a"
      },
      "execution_count": 78,
      "outputs": [
        {
          "output_type": "execute_result",
          "data": {
            "text/plain": [
              "         Date   Time  code  value\n",
              "0  07-13-1988  08:00    58     81\n",
              "1  07-13-1988  08:00    34     26\n",
              "2  07-13-1988  12:00    60    144\n",
              "3  07-13-1988  18:00    62    165\n",
              "4  07-13-1988  22:00    48    196"
            ],
            "text/html": [
              "\n",
              "  <div id=\"df-d6ab5f6f-f5d1-47f9-9378-6967bb6650ff\">\n",
              "    <div class=\"colab-df-container\">\n",
              "      <div>\n",
              "<style scoped>\n",
              "    .dataframe tbody tr th:only-of-type {\n",
              "        vertical-align: middle;\n",
              "    }\n",
              "\n",
              "    .dataframe tbody tr th {\n",
              "        vertical-align: top;\n",
              "    }\n",
              "\n",
              "    .dataframe thead th {\n",
              "        text-align: right;\n",
              "    }\n",
              "</style>\n",
              "<table border=\"1\" class=\"dataframe\">\n",
              "  <thead>\n",
              "    <tr style=\"text-align: right;\">\n",
              "      <th></th>\n",
              "      <th>Date</th>\n",
              "      <th>Time</th>\n",
              "      <th>code</th>\n",
              "      <th>value</th>\n",
              "    </tr>\n",
              "  </thead>\n",
              "  <tbody>\n",
              "    <tr>\n",
              "      <th>0</th>\n",
              "      <td>07-13-1988</td>\n",
              "      <td>08:00</td>\n",
              "      <td>58</td>\n",
              "      <td>81</td>\n",
              "    </tr>\n",
              "    <tr>\n",
              "      <th>1</th>\n",
              "      <td>07-13-1988</td>\n",
              "      <td>08:00</td>\n",
              "      <td>34</td>\n",
              "      <td>26</td>\n",
              "    </tr>\n",
              "    <tr>\n",
              "      <th>2</th>\n",
              "      <td>07-13-1988</td>\n",
              "      <td>12:00</td>\n",
              "      <td>60</td>\n",
              "      <td>144</td>\n",
              "    </tr>\n",
              "    <tr>\n",
              "      <th>3</th>\n",
              "      <td>07-13-1988</td>\n",
              "      <td>18:00</td>\n",
              "      <td>62</td>\n",
              "      <td>165</td>\n",
              "    </tr>\n",
              "    <tr>\n",
              "      <th>4</th>\n",
              "      <td>07-13-1988</td>\n",
              "      <td>22:00</td>\n",
              "      <td>48</td>\n",
              "      <td>196</td>\n",
              "    </tr>\n",
              "  </tbody>\n",
              "</table>\n",
              "</div>\n",
              "      <button class=\"colab-df-convert\" onclick=\"convertToInteractive('df-d6ab5f6f-f5d1-47f9-9378-6967bb6650ff')\"\n",
              "              title=\"Convert this dataframe to an interactive table.\"\n",
              "              style=\"display:none;\">\n",
              "        \n",
              "  <svg xmlns=\"http://www.w3.org/2000/svg\" height=\"24px\"viewBox=\"0 0 24 24\"\n",
              "       width=\"24px\">\n",
              "    <path d=\"M0 0h24v24H0V0z\" fill=\"none\"/>\n",
              "    <path d=\"M18.56 5.44l.94 2.06.94-2.06 2.06-.94-2.06-.94-.94-2.06-.94 2.06-2.06.94zm-11 1L8.5 8.5l.94-2.06 2.06-.94-2.06-.94L8.5 2.5l-.94 2.06-2.06.94zm10 10l.94 2.06.94-2.06 2.06-.94-2.06-.94-.94-2.06-.94 2.06-2.06.94z\"/><path d=\"M17.41 7.96l-1.37-1.37c-.4-.4-.92-.59-1.43-.59-.52 0-1.04.2-1.43.59L10.3 9.45l-7.72 7.72c-.78.78-.78 2.05 0 2.83L4 21.41c.39.39.9.59 1.41.59.51 0 1.02-.2 1.41-.59l7.78-7.78 2.81-2.81c.8-.78.8-2.07 0-2.86zM5.41 20L4 18.59l7.72-7.72 1.47 1.35L5.41 20z\"/>\n",
              "  </svg>\n",
              "      </button>\n",
              "      \n",
              "  <style>\n",
              "    .colab-df-container {\n",
              "      display:flex;\n",
              "      flex-wrap:wrap;\n",
              "      gap: 12px;\n",
              "    }\n",
              "\n",
              "    .colab-df-convert {\n",
              "      background-color: #E8F0FE;\n",
              "      border: none;\n",
              "      border-radius: 50%;\n",
              "      cursor: pointer;\n",
              "      display: none;\n",
              "      fill: #1967D2;\n",
              "      height: 32px;\n",
              "      padding: 0 0 0 0;\n",
              "      width: 32px;\n",
              "    }\n",
              "\n",
              "    .colab-df-convert:hover {\n",
              "      background-color: #E2EBFA;\n",
              "      box-shadow: 0px 1px 2px rgba(60, 64, 67, 0.3), 0px 1px 3px 1px rgba(60, 64, 67, 0.15);\n",
              "      fill: #174EA6;\n",
              "    }\n",
              "\n",
              "    [theme=dark] .colab-df-convert {\n",
              "      background-color: #3B4455;\n",
              "      fill: #D2E3FC;\n",
              "    }\n",
              "\n",
              "    [theme=dark] .colab-df-convert:hover {\n",
              "      background-color: #434B5C;\n",
              "      box-shadow: 0px 1px 3px 1px rgba(0, 0, 0, 0.15);\n",
              "      filter: drop-shadow(0px 1px 2px rgba(0, 0, 0, 0.3));\n",
              "      fill: #FFFFFF;\n",
              "    }\n",
              "  </style>\n",
              "\n",
              "      <script>\n",
              "        const buttonEl =\n",
              "          document.querySelector('#df-d6ab5f6f-f5d1-47f9-9378-6967bb6650ff button.colab-df-convert');\n",
              "        buttonEl.style.display =\n",
              "          google.colab.kernel.accessAllowed ? 'block' : 'none';\n",
              "\n",
              "        async function convertToInteractive(key) {\n",
              "          const element = document.querySelector('#df-d6ab5f6f-f5d1-47f9-9378-6967bb6650ff');\n",
              "          const dataTable =\n",
              "            await google.colab.kernel.invokeFunction('convertToInteractive',\n",
              "                                                     [key], {});\n",
              "          if (!dataTable) return;\n",
              "\n",
              "          const docLinkHtml = 'Like what you see? Visit the ' +\n",
              "            '<a target=\"_blank\" href=https://colab.research.google.com/notebooks/data_table.ipynb>data table notebook</a>'\n",
              "            + ' to learn more about interactive tables.';\n",
              "          element.innerHTML = '';\n",
              "          dataTable['output_type'] = 'display_data';\n",
              "          await google.colab.output.renderOutput(dataTable, element);\n",
              "          const docLink = document.createElement('div');\n",
              "          docLink.innerHTML = docLinkHtml;\n",
              "          element.appendChild(docLink);\n",
              "        }\n",
              "      </script>\n",
              "    </div>\n",
              "  </div>\n",
              "  "
            ]
          },
          "metadata": {},
          "execution_count": 78
        }
      ]
    },
    {
      "cell_type": "code",
      "source": [
        "newdf= (\n",
        "    dataset.pivot_table(index=dataset.groupby('code').cumcount(),\n",
        "                   columns='code',\n",
        "                   values='value')\n",
        "        .add_prefix('')\n",
        "        .rename_axis(columns=None)\n",
        ")"
      ],
      "metadata": {
        "id": "iNTPJHf3GTqD"
      },
      "execution_count": 79,
      "outputs": []
    },
    {
      "cell_type": "code",
      "source": [
        "newdf.head()"
      ],
      "metadata": {
        "colab": {
          "base_uri": "https://localhost:8080/",
          "height": 206
        },
        "id": "kyxJutuPLrAZ",
        "outputId": "e7871ab3-9e05-405d-e7b8-448a1b9e8920"
      },
      "execution_count": 80,
      "outputs": [
        {
          "output_type": "execute_result",
          "data": {
            "text/plain": [
              "    33    34     48     58     60     62\n",
              "0  4.0  26.0  196.0   81.0  144.0  165.0\n",
              "1  2.0  26.0  251.0  133.0  190.0  242.0\n",
              "2  6.0  26.0  201.0  140.0  180.0  259.0\n",
              "3  4.0  26.0   97.0  108.0  175.0   64.0\n",
              "4  2.0  26.0  235.0  134.0  233.0  314.0"
            ],
            "text/html": [
              "\n",
              "  <div id=\"df-3fe7020b-aa6d-49f6-a0de-4952354381e8\">\n",
              "    <div class=\"colab-df-container\">\n",
              "      <div>\n",
              "<style scoped>\n",
              "    .dataframe tbody tr th:only-of-type {\n",
              "        vertical-align: middle;\n",
              "    }\n",
              "\n",
              "    .dataframe tbody tr th {\n",
              "        vertical-align: top;\n",
              "    }\n",
              "\n",
              "    .dataframe thead th {\n",
              "        text-align: right;\n",
              "    }\n",
              "</style>\n",
              "<table border=\"1\" class=\"dataframe\">\n",
              "  <thead>\n",
              "    <tr style=\"text-align: right;\">\n",
              "      <th></th>\n",
              "      <th>33</th>\n",
              "      <th>34</th>\n",
              "      <th>48</th>\n",
              "      <th>58</th>\n",
              "      <th>60</th>\n",
              "      <th>62</th>\n",
              "    </tr>\n",
              "  </thead>\n",
              "  <tbody>\n",
              "    <tr>\n",
              "      <th>0</th>\n",
              "      <td>4.0</td>\n",
              "      <td>26.0</td>\n",
              "      <td>196.0</td>\n",
              "      <td>81.0</td>\n",
              "      <td>144.0</td>\n",
              "      <td>165.0</td>\n",
              "    </tr>\n",
              "    <tr>\n",
              "      <th>1</th>\n",
              "      <td>2.0</td>\n",
              "      <td>26.0</td>\n",
              "      <td>251.0</td>\n",
              "      <td>133.0</td>\n",
              "      <td>190.0</td>\n",
              "      <td>242.0</td>\n",
              "    </tr>\n",
              "    <tr>\n",
              "      <th>2</th>\n",
              "      <td>6.0</td>\n",
              "      <td>26.0</td>\n",
              "      <td>201.0</td>\n",
              "      <td>140.0</td>\n",
              "      <td>180.0</td>\n",
              "      <td>259.0</td>\n",
              "    </tr>\n",
              "    <tr>\n",
              "      <th>3</th>\n",
              "      <td>4.0</td>\n",
              "      <td>26.0</td>\n",
              "      <td>97.0</td>\n",
              "      <td>108.0</td>\n",
              "      <td>175.0</td>\n",
              "      <td>64.0</td>\n",
              "    </tr>\n",
              "    <tr>\n",
              "      <th>4</th>\n",
              "      <td>2.0</td>\n",
              "      <td>26.0</td>\n",
              "      <td>235.0</td>\n",
              "      <td>134.0</td>\n",
              "      <td>233.0</td>\n",
              "      <td>314.0</td>\n",
              "    </tr>\n",
              "  </tbody>\n",
              "</table>\n",
              "</div>\n",
              "      <button class=\"colab-df-convert\" onclick=\"convertToInteractive('df-3fe7020b-aa6d-49f6-a0de-4952354381e8')\"\n",
              "              title=\"Convert this dataframe to an interactive table.\"\n",
              "              style=\"display:none;\">\n",
              "        \n",
              "  <svg xmlns=\"http://www.w3.org/2000/svg\" height=\"24px\"viewBox=\"0 0 24 24\"\n",
              "       width=\"24px\">\n",
              "    <path d=\"M0 0h24v24H0V0z\" fill=\"none\"/>\n",
              "    <path d=\"M18.56 5.44l.94 2.06.94-2.06 2.06-.94-2.06-.94-.94-2.06-.94 2.06-2.06.94zm-11 1L8.5 8.5l.94-2.06 2.06-.94-2.06-.94L8.5 2.5l-.94 2.06-2.06.94zm10 10l.94 2.06.94-2.06 2.06-.94-2.06-.94-.94-2.06-.94 2.06-2.06.94z\"/><path d=\"M17.41 7.96l-1.37-1.37c-.4-.4-.92-.59-1.43-.59-.52 0-1.04.2-1.43.59L10.3 9.45l-7.72 7.72c-.78.78-.78 2.05 0 2.83L4 21.41c.39.39.9.59 1.41.59.51 0 1.02-.2 1.41-.59l7.78-7.78 2.81-2.81c.8-.78.8-2.07 0-2.86zM5.41 20L4 18.59l7.72-7.72 1.47 1.35L5.41 20z\"/>\n",
              "  </svg>\n",
              "      </button>\n",
              "      \n",
              "  <style>\n",
              "    .colab-df-container {\n",
              "      display:flex;\n",
              "      flex-wrap:wrap;\n",
              "      gap: 12px;\n",
              "    }\n",
              "\n",
              "    .colab-df-convert {\n",
              "      background-color: #E8F0FE;\n",
              "      border: none;\n",
              "      border-radius: 50%;\n",
              "      cursor: pointer;\n",
              "      display: none;\n",
              "      fill: #1967D2;\n",
              "      height: 32px;\n",
              "      padding: 0 0 0 0;\n",
              "      width: 32px;\n",
              "    }\n",
              "\n",
              "    .colab-df-convert:hover {\n",
              "      background-color: #E2EBFA;\n",
              "      box-shadow: 0px 1px 2px rgba(60, 64, 67, 0.3), 0px 1px 3px 1px rgba(60, 64, 67, 0.15);\n",
              "      fill: #174EA6;\n",
              "    }\n",
              "\n",
              "    [theme=dark] .colab-df-convert {\n",
              "      background-color: #3B4455;\n",
              "      fill: #D2E3FC;\n",
              "    }\n",
              "\n",
              "    [theme=dark] .colab-df-convert:hover {\n",
              "      background-color: #434B5C;\n",
              "      box-shadow: 0px 1px 3px 1px rgba(0, 0, 0, 0.15);\n",
              "      filter: drop-shadow(0px 1px 2px rgba(0, 0, 0, 0.3));\n",
              "      fill: #FFFFFF;\n",
              "    }\n",
              "  </style>\n",
              "\n",
              "      <script>\n",
              "        const buttonEl =\n",
              "          document.querySelector('#df-3fe7020b-aa6d-49f6-a0de-4952354381e8 button.colab-df-convert');\n",
              "        buttonEl.style.display =\n",
              "          google.colab.kernel.accessAllowed ? 'block' : 'none';\n",
              "\n",
              "        async function convertToInteractive(key) {\n",
              "          const element = document.querySelector('#df-3fe7020b-aa6d-49f6-a0de-4952354381e8');\n",
              "          const dataTable =\n",
              "            await google.colab.kernel.invokeFunction('convertToInteractive',\n",
              "                                                     [key], {});\n",
              "          if (!dataTable) return;\n",
              "\n",
              "          const docLinkHtml = 'Like what you see? Visit the ' +\n",
              "            '<a target=\"_blank\" href=https://colab.research.google.com/notebooks/data_table.ipynb>data table notebook</a>'\n",
              "            + ' to learn more about interactive tables.';\n",
              "          element.innerHTML = '';\n",
              "          dataTable['output_type'] = 'display_data';\n",
              "          await google.colab.output.renderOutput(dataTable, element);\n",
              "          const docLink = document.createElement('div');\n",
              "          docLink.innerHTML = docLinkHtml;\n",
              "          element.appendChild(docLink);\n",
              "        }\n",
              "      </script>\n",
              "    </div>\n",
              "  </div>\n",
              "  "
            ]
          },
          "metadata": {},
          "execution_count": 80
        }
      ]
    },
    {
      "cell_type": "code",
      "source": [
        "newdf=newdf[:74]"
      ],
      "metadata": {
        "id": "pqwNcLcmjLZe"
      },
      "execution_count": 81,
      "outputs": []
    },
    {
      "cell_type": "code",
      "source": [
        "newdf = newdf.rename(columns={'33': 'Regular insulin dose', '34': 'NPH insulin dose',\n",
        "                        '48':'Unspecified blood glucose measurement','58':'Pre-breakfast blood glucose measurement',\n",
        "                        '60':'Pre-lunch blood glucose measurement',\n",
        "                        '62':'Pre-supper blood glucose measurement'})"
      ],
      "metadata": {
        "id": "MPDQ0P4CGeza"
      },
      "execution_count": 82,
      "outputs": []
    },
    {
      "cell_type": "code",
      "source": [
        "newdf.head()"
      ],
      "metadata": {
        "colab": {
          "base_uri": "https://localhost:8080/",
          "height": 268
        },
        "id": "d_t4-E11KETL",
        "outputId": "22d373c5-d25d-4e2c-c23c-acb8a3f9e001"
      },
      "execution_count": 83,
      "outputs": [
        {
          "output_type": "execute_result",
          "data": {
            "text/plain": [
              "   Regular insulin dose  NPH insulin dose  \\\n",
              "0                   4.0              26.0   \n",
              "1                   2.0              26.0   \n",
              "2                   6.0              26.0   \n",
              "3                   4.0              26.0   \n",
              "4                   2.0              26.0   \n",
              "\n",
              "   Unspecified blood glucose measurement  \\\n",
              "0                                  196.0   \n",
              "1                                  251.0   \n",
              "2                                  201.0   \n",
              "3                                   97.0   \n",
              "4                                  235.0   \n",
              "\n",
              "   Pre-breakfast blood glucose measurement  \\\n",
              "0                                     81.0   \n",
              "1                                    133.0   \n",
              "2                                    140.0   \n",
              "3                                    108.0   \n",
              "4                                    134.0   \n",
              "\n",
              "   Pre-lunch blood glucose measurement  Pre-supper blood glucose measurement  \n",
              "0                                144.0                                 165.0  \n",
              "1                                190.0                                 242.0  \n",
              "2                                180.0                                 259.0  \n",
              "3                                175.0                                  64.0  \n",
              "4                                233.0                                 314.0  "
            ],
            "text/html": [
              "\n",
              "  <div id=\"df-85d93032-d354-4ce4-9c81-19acd8ad3ffe\">\n",
              "    <div class=\"colab-df-container\">\n",
              "      <div>\n",
              "<style scoped>\n",
              "    .dataframe tbody tr th:only-of-type {\n",
              "        vertical-align: middle;\n",
              "    }\n",
              "\n",
              "    .dataframe tbody tr th {\n",
              "        vertical-align: top;\n",
              "    }\n",
              "\n",
              "    .dataframe thead th {\n",
              "        text-align: right;\n",
              "    }\n",
              "</style>\n",
              "<table border=\"1\" class=\"dataframe\">\n",
              "  <thead>\n",
              "    <tr style=\"text-align: right;\">\n",
              "      <th></th>\n",
              "      <th>Regular insulin dose</th>\n",
              "      <th>NPH insulin dose</th>\n",
              "      <th>Unspecified blood glucose measurement</th>\n",
              "      <th>Pre-breakfast blood glucose measurement</th>\n",
              "      <th>Pre-lunch blood glucose measurement</th>\n",
              "      <th>Pre-supper blood glucose measurement</th>\n",
              "    </tr>\n",
              "  </thead>\n",
              "  <tbody>\n",
              "    <tr>\n",
              "      <th>0</th>\n",
              "      <td>4.0</td>\n",
              "      <td>26.0</td>\n",
              "      <td>196.0</td>\n",
              "      <td>81.0</td>\n",
              "      <td>144.0</td>\n",
              "      <td>165.0</td>\n",
              "    </tr>\n",
              "    <tr>\n",
              "      <th>1</th>\n",
              "      <td>2.0</td>\n",
              "      <td>26.0</td>\n",
              "      <td>251.0</td>\n",
              "      <td>133.0</td>\n",
              "      <td>190.0</td>\n",
              "      <td>242.0</td>\n",
              "    </tr>\n",
              "    <tr>\n",
              "      <th>2</th>\n",
              "      <td>6.0</td>\n",
              "      <td>26.0</td>\n",
              "      <td>201.0</td>\n",
              "      <td>140.0</td>\n",
              "      <td>180.0</td>\n",
              "      <td>259.0</td>\n",
              "    </tr>\n",
              "    <tr>\n",
              "      <th>3</th>\n",
              "      <td>4.0</td>\n",
              "      <td>26.0</td>\n",
              "      <td>97.0</td>\n",
              "      <td>108.0</td>\n",
              "      <td>175.0</td>\n",
              "      <td>64.0</td>\n",
              "    </tr>\n",
              "    <tr>\n",
              "      <th>4</th>\n",
              "      <td>2.0</td>\n",
              "      <td>26.0</td>\n",
              "      <td>235.0</td>\n",
              "      <td>134.0</td>\n",
              "      <td>233.0</td>\n",
              "      <td>314.0</td>\n",
              "    </tr>\n",
              "  </tbody>\n",
              "</table>\n",
              "</div>\n",
              "      <button class=\"colab-df-convert\" onclick=\"convertToInteractive('df-85d93032-d354-4ce4-9c81-19acd8ad3ffe')\"\n",
              "              title=\"Convert this dataframe to an interactive table.\"\n",
              "              style=\"display:none;\">\n",
              "        \n",
              "  <svg xmlns=\"http://www.w3.org/2000/svg\" height=\"24px\"viewBox=\"0 0 24 24\"\n",
              "       width=\"24px\">\n",
              "    <path d=\"M0 0h24v24H0V0z\" fill=\"none\"/>\n",
              "    <path d=\"M18.56 5.44l.94 2.06.94-2.06 2.06-.94-2.06-.94-.94-2.06-.94 2.06-2.06.94zm-11 1L8.5 8.5l.94-2.06 2.06-.94-2.06-.94L8.5 2.5l-.94 2.06-2.06.94zm10 10l.94 2.06.94-2.06 2.06-.94-2.06-.94-.94-2.06-.94 2.06-2.06.94z\"/><path d=\"M17.41 7.96l-1.37-1.37c-.4-.4-.92-.59-1.43-.59-.52 0-1.04.2-1.43.59L10.3 9.45l-7.72 7.72c-.78.78-.78 2.05 0 2.83L4 21.41c.39.39.9.59 1.41.59.51 0 1.02-.2 1.41-.59l7.78-7.78 2.81-2.81c.8-.78.8-2.07 0-2.86zM5.41 20L4 18.59l7.72-7.72 1.47 1.35L5.41 20z\"/>\n",
              "  </svg>\n",
              "      </button>\n",
              "      \n",
              "  <style>\n",
              "    .colab-df-container {\n",
              "      display:flex;\n",
              "      flex-wrap:wrap;\n",
              "      gap: 12px;\n",
              "    }\n",
              "\n",
              "    .colab-df-convert {\n",
              "      background-color: #E8F0FE;\n",
              "      border: none;\n",
              "      border-radius: 50%;\n",
              "      cursor: pointer;\n",
              "      display: none;\n",
              "      fill: #1967D2;\n",
              "      height: 32px;\n",
              "      padding: 0 0 0 0;\n",
              "      width: 32px;\n",
              "    }\n",
              "\n",
              "    .colab-df-convert:hover {\n",
              "      background-color: #E2EBFA;\n",
              "      box-shadow: 0px 1px 2px rgba(60, 64, 67, 0.3), 0px 1px 3px 1px rgba(60, 64, 67, 0.15);\n",
              "      fill: #174EA6;\n",
              "    }\n",
              "\n",
              "    [theme=dark] .colab-df-convert {\n",
              "      background-color: #3B4455;\n",
              "      fill: #D2E3FC;\n",
              "    }\n",
              "\n",
              "    [theme=dark] .colab-df-convert:hover {\n",
              "      background-color: #434B5C;\n",
              "      box-shadow: 0px 1px 3px 1px rgba(0, 0, 0, 0.15);\n",
              "      filter: drop-shadow(0px 1px 2px rgba(0, 0, 0, 0.3));\n",
              "      fill: #FFFFFF;\n",
              "    }\n",
              "  </style>\n",
              "\n",
              "      <script>\n",
              "        const buttonEl =\n",
              "          document.querySelector('#df-85d93032-d354-4ce4-9c81-19acd8ad3ffe button.colab-df-convert');\n",
              "        buttonEl.style.display =\n",
              "          google.colab.kernel.accessAllowed ? 'block' : 'none';\n",
              "\n",
              "        async function convertToInteractive(key) {\n",
              "          const element = document.querySelector('#df-85d93032-d354-4ce4-9c81-19acd8ad3ffe');\n",
              "          const dataTable =\n",
              "            await google.colab.kernel.invokeFunction('convertToInteractive',\n",
              "                                                     [key], {});\n",
              "          if (!dataTable) return;\n",
              "\n",
              "          const docLinkHtml = 'Like what you see? Visit the ' +\n",
              "            '<a target=\"_blank\" href=https://colab.research.google.com/notebooks/data_table.ipynb>data table notebook</a>'\n",
              "            + ' to learn more about interactive tables.';\n",
              "          element.innerHTML = '';\n",
              "          dataTable['output_type'] = 'display_data';\n",
              "          await google.colab.output.renderOutput(dataTable, element);\n",
              "          const docLink = document.createElement('div');\n",
              "          docLink.innerHTML = docLinkHtml;\n",
              "          element.appendChild(docLink);\n",
              "        }\n",
              "      </script>\n",
              "    </div>\n",
              "  </div>\n",
              "  "
            ]
          },
          "metadata": {},
          "execution_count": 83
        }
      ]
    },
    {
      "cell_type": "code",
      "source": [
        "newdf.mean()"
      ],
      "metadata": {
        "colab": {
          "base_uri": "https://localhost:8080/"
        },
        "id": "wPGlxFk30ZET",
        "outputId": "f4b27ed8-07b8-4c54-d658-9f98a6a54508"
      },
      "execution_count": 84,
      "outputs": [
        {
          "output_type": "execute_result",
          "data": {
            "text/plain": [
              "Regular insulin dose                         4.810811\n",
              "NPH insulin dose                            20.027027\n",
              "Unspecified blood glucose measurement      146.351351\n",
              "Pre-breakfast blood glucose measurement    127.202703\n",
              "Pre-lunch blood glucose measurement        128.864865\n",
              "Pre-supper blood glucose measurement       149.500000\n",
              "dtype: float64"
            ]
          },
          "metadata": {},
          "execution_count": 84
        }
      ]
    },
    {
      "cell_type": "code",
      "source": [
        "newdf.median()"
      ],
      "metadata": {
        "colab": {
          "base_uri": "https://localhost:8080/"
        },
        "id": "cKbvu01p0z7g",
        "outputId": "a2c9a32c-b7a1-4dc7-ab98-ccf7d478e1fd"
      },
      "execution_count": 85,
      "outputs": [
        {
          "output_type": "execute_result",
          "data": {
            "text/plain": [
              "Regular insulin dose                         6.0\n",
              "NPH insulin dose                            22.0\n",
              "Unspecified blood glucose measurement      133.0\n",
              "Pre-breakfast blood glucose measurement    130.0\n",
              "Pre-lunch blood glucose measurement        125.0\n",
              "Pre-supper blood glucose measurement       132.0\n",
              "dtype: float64"
            ]
          },
          "metadata": {},
          "execution_count": 85
        }
      ]
    },
    {
      "cell_type": "code",
      "source": [
        "import statistics\n",
        "from statistics import StatisticsError\n",
        "for col in newdf:\n",
        "  print(col, end=\"\\t\")\n",
        "  try:\n",
        "    modedata=statistics.mode(newdf[col])\n",
        "  except StatisticsError:\n",
        "    print (\"No unique mode found\")\n"
      ],
      "metadata": {
        "colab": {
          "base_uri": "https://localhost:8080/"
        },
        "id": "X0EslslG1AmD",
        "outputId": "2944d024-5bc6-4cf3-a287-5fc8d832c23b"
      },
      "execution_count": 86,
      "outputs": [
        {
          "output_type": "stream",
          "name": "stdout",
          "text": [
            "Regular insulin dose\tNPH insulin dose\tUnspecified blood glucose measurement\tNo unique mode found\n",
            "Pre-breakfast blood glucose measurement\tNo unique mode found\n",
            "Pre-lunch blood glucose measurement\tNo unique mode found\n",
            "Pre-supper blood glucose measurement\tNo unique mode found\n"
          ]
        }
      ]
    },
    {
      "cell_type": "code",
      "source": [
        "sb.boxplot(newdf['Pre-breakfast blood glucose measurement'])"
      ],
      "metadata": {
        "colab": {
          "base_uri": "https://localhost:8080/",
          "height": 351
        },
        "id": "KJsieCXB1T0t",
        "outputId": "44bcfd95-65f8-478e-eb10-b3625cb87ed0"
      },
      "execution_count": 87,
      "outputs": [
        {
          "output_type": "stream",
          "name": "stderr",
          "text": [
            "/usr/local/lib/python3.7/dist-packages/seaborn/_decorators.py:43: FutureWarning: Pass the following variable as a keyword arg: x. From version 0.12, the only valid positional argument will be `data`, and passing other arguments without an explicit keyword will result in an error or misinterpretation.\n",
            "  FutureWarning\n"
          ]
        },
        {
          "output_type": "execute_result",
          "data": {
            "text/plain": [
              "<matplotlib.axes._subplots.AxesSubplot at 0x7f833cf1a150>"
            ]
          },
          "metadata": {},
          "execution_count": 87
        },
        {
          "output_type": "display_data",
          "data": {
            "text/plain": [
              "<Figure size 432x288 with 1 Axes>"
            ],
            "image/png": "[encoded data removed]"
          },
          "metadata": {
            "needs_background": "light"
          }
        }
      ]
    },
    {
      "cell_type": "code",
      "source": [
        "newdf.boxplot(column=['Pre-breakfast blood glucose measurement','Pre-lunch blood glucose measurement','Unspecified blood glucose measurement'])"
      ],
      "metadata": {
        "colab": {
          "base_uri": "https://localhost:8080/",
          "height": 282
        },
        "id": "VvuoCtD611mD",
        "outputId": "b5e55ff4-150c-414e-a453-8268366a47f0"
      },
      "execution_count": 88,
      "outputs": [
        {
          "output_type": "execute_result",
          "data": {
            "text/plain": [
              "<matplotlib.axes._subplots.AxesSubplot at 0x7f833ce55a90>"
            ]
          },
          "metadata": {},
          "execution_count": 88
        },
        {
          "output_type": "display_data",
          "data": {
            "text/plain": [
              "<Figure size 432x288 with 1 Axes>"
            ],
            "image/png": "[encoded data removed]"
          },
          "metadata": {
            "needs_background": "light"
          }
        }
      ]
    },
    {
      "cell_type": "code",
      "source": [
        "\n",
        "for col in newdf:\n",
        "  print(\" \")\n",
        "  data = newdf[col]\n",
        "  np.sort(data)\n",
        "  q1, q3= np.percentile(data,[25,75])\n",
        "  iqr = q3 - q1\n",
        "  lower_bound = q1 - (1.5 * iqr) \n",
        "  upper_bound = q3 + (1.5 * iqr) \n",
        "  print('=> ',col)\n",
        "  print(\" \")\n",
        "  print(\"Lower bound\",lower_bound)\n",
        "  print(\"upper \",upper_bound)\n",
        "  print(\"Outliers\")\n",
        "  for i in data:\n",
        "    if i < lower_bound or i > upper_bound:\n",
        "      \n",
        "      print(\"     \",i)"
      ],
      "metadata": {
        "colab": {
          "base_uri": "https://localhost:8080/"
        },
        "id": "mu0GF5Wb2sEp",
        "outputId": "100189e0-a2be-43d8-89f4-ade8cc01b404"
      },
      "execution_count": 101,
      "outputs": [
        {
          "output_type": "stream",
          "name": "stdout",
          "text": [
            " \n",
            "=>  Regular insulin dose\n",
            " \n",
            "Lower bound 1.0\n",
            "upper  9.0\n",
            "Outliers\n",
            " \n",
            "=>  NPH insulin dose\n",
            " \n",
            "Lower bound 7.0\n",
            "upper  31.0\n",
            "Outliers\n",
            " \n",
            "=>  Unspecified blood glucose measurement\n",
            " \n",
            "Lower bound -59.0\n",
            "upper  355.0\n",
            "Outliers\n",
            " \n",
            "=>  Pre-breakfast blood glucose measurement\n",
            " \n",
            "Lower bound 4.75\n",
            "upper  234.75\n",
            "Outliers\n",
            "      242.0\n",
            "      244.0\n",
            " \n",
            "=>  Pre-lunch blood glucose measurement\n",
            " \n",
            "Lower bound -76.875\n",
            "upper  332.125\n",
            "Outliers\n",
            " \n",
            "=>  Pre-supper blood glucose measurement\n",
            " \n",
            "Lower bound -38.625\n",
            "upper  328.375\n",
            "Outliers\n"
          ]
        }
      ]
    },
    {
      "cell_type": "code",
      "source": [
        "newdf.info()"
      ],
      "metadata": {
        "colab": {
          "base_uri": "https://localhost:8080/"
        },
        "id": "QUpg_j79QaUv",
        "outputId": "b65cf9cf-4650-48ad-e3e8-f0b4a146a2ea"
      },
      "execution_count": 92,
      "outputs": [
        {
          "output_type": "stream",
          "name": "stdout",
          "text": [
            "<class 'pandas.core.frame.DataFrame'>\n",
            "Int64Index: 74 entries, 0 to 73\n",
            "Data columns (total 6 columns):\n",
            " #   Column                                   Non-Null Count  Dtype  \n",
            "---  ------                                   --------------  -----  \n",
            " 0   Regular insulin dose                     74 non-null     float64\n",
            " 1   NPH insulin dose                         74 non-null     float64\n",
            " 2   Unspecified blood glucose measurement    74 non-null     float64\n",
            " 3   Pre-breakfast blood glucose measurement  74 non-null     float64\n",
            " 4   Pre-lunch blood glucose measurement      74 non-null     float64\n",
            " 5   Pre-supper blood glucose measurement     74 non-null     float64\n",
            "dtypes: float64(6)\n",
            "memory usage: 4.0 KB\n"
          ]
        }
      ]
    },
    {
      "cell_type": "code",
      "source": [
        "sp=newdf[:74]\n",
        "sp.info()"
      ],
      "metadata": {
        "colab": {
          "base_uri": "https://localhost:8080/"
        },
        "id": "tIE-eBsnQj8K",
        "outputId": "dbda07f7-d959-4aff-d611-735d28b2844f"
      },
      "execution_count": 93,
      "outputs": [
        {
          "output_type": "stream",
          "name": "stdout",
          "text": [
            "<class 'pandas.core.frame.DataFrame'>\n",
            "Int64Index: 74 entries, 0 to 73\n",
            "Data columns (total 6 columns):\n",
            " #   Column                                   Non-Null Count  Dtype  \n",
            "---  ------                                   --------------  -----  \n",
            " 0   Regular insulin dose                     74 non-null     float64\n",
            " 1   NPH insulin dose                         74 non-null     float64\n",
            " 2   Unspecified blood glucose measurement    74 non-null     float64\n",
            " 3   Pre-breakfast blood glucose measurement  74 non-null     float64\n",
            " 4   Pre-lunch blood glucose measurement      74 non-null     float64\n",
            " 5   Pre-supper blood glucose measurement     74 non-null     float64\n",
            "dtypes: float64(6)\n",
            "memory usage: 4.0 KB\n"
          ]
        }
      ]
    },
    {
      "cell_type": "markdown",
      "source": [
        "**Pairplot in seaborn to plot the relation between pairs of attributes**"
      ],
      "metadata": {
        "id": "wJDfsUbSYIqX"
      }
    },
    {
      "cell_type": "code",
      "source": [
        "sb.pairplot(sp,kind='scatter')"
      ],
      "metadata": {
        "colab": {
          "base_uri": "https://localhost:8080/",
          "height": 1000
        },
        "id": "RNrzJ6YEVnlW",
        "outputId": "de11f96a-b16b-435a-c47d-073f45263d18"
      },
      "execution_count": 94,
      "outputs": [
        {
          "output_type": "execute_result",
          "data": {
            "text/plain": [
              "<seaborn.axisgrid.PairGrid at 0x7f833ce0a9d0>"
            ]
          },
          "metadata": {},
          "execution_count": 94
        },
        {
          "output_type": "display_data",
          "data": {
            "text/plain": [
              "<Figure size 1080x1080 with 42 Axes>"
            ],
            "image/png": "[encoded data removed]"
          },
          "metadata": {
            "needs_background": "light"
          }
        }
      ]
    },
    {
      "cell_type": "code",
      "source": [
        "sp.corr()"
      ],
      "metadata": {
        "colab": {
          "base_uri": "https://localhost:8080/",
          "height": 368
        },
        "id": "oU92z8_AR68P",
        "outputId": "e4eea334-e715-4eee-8cbd-5efc0e2c1475"
      },
      "execution_count": 95,
      "outputs": [
        {
          "output_type": "execute_result",
          "data": {
            "text/plain": [
              "                                         Regular insulin dose  \\\n",
              "Regular insulin dose                                 1.000000   \n",
              "NPH insulin dose                                    -0.234688   \n",
              "Unspecified blood glucose measurement               -0.046592   \n",
              "Pre-breakfast blood glucose measurement              0.190824   \n",
              "Pre-lunch blood glucose measurement                 -0.022933   \n",
              "Pre-supper blood glucose measurement                -0.122394   \n",
              "\n",
              "                                         NPH insulin dose  \\\n",
              "Regular insulin dose                            -0.234688   \n",
              "NPH insulin dose                                 1.000000   \n",
              "Unspecified blood glucose measurement            0.292873   \n",
              "Pre-breakfast blood glucose measurement         -0.224276   \n",
              "Pre-lunch blood glucose measurement              0.539769   \n",
              "Pre-supper blood glucose measurement             0.431198   \n",
              "\n",
              "                                         Unspecified blood glucose measurement  \\\n",
              "Regular insulin dose                                                 -0.046592   \n",
              "NPH insulin dose                                                      0.292873   \n",
              "Unspecified blood glucose measurement                                 1.000000   \n",
              "Pre-breakfast blood glucose measurement                               0.067276   \n",
              "Pre-lunch blood glucose measurement                                   0.147036   \n",
              "Pre-supper blood glucose measurement                                  0.363452   \n",
              "\n",
              "                                         Pre-breakfast blood glucose measurement  \\\n",
              "Regular insulin dose                                                    0.190824   \n",
              "NPH insulin dose                                                       -0.224276   \n",
              "Unspecified blood glucose measurement                                   0.067276   \n",
              "Pre-breakfast blood glucose measurement                                 1.000000   \n",
              "Pre-lunch blood glucose measurement                                    -0.040093   \n",
              "Pre-supper blood glucose measurement                                   -0.033227   \n",
              "\n",
              "                                         Pre-lunch blood glucose measurement  \\\n",
              "Regular insulin dose                                               -0.022933   \n",
              "NPH insulin dose                                                    0.539769   \n",
              "Unspecified blood glucose measurement                               0.147036   \n",
              "Pre-breakfast blood glucose measurement                            -0.040093   \n",
              "Pre-lunch blood glucose measurement                                 1.000000   \n",
              "Pre-supper blood glucose measurement                                0.375736   \n",
              "\n",
              "                                         Pre-supper blood glucose measurement  \n",
              "Regular insulin dose                                                -0.122394  \n",
              "NPH insulin dose                                                     0.431198  \n",
              "Unspecified blood glucose measurement                                0.363452  \n",
              "Pre-breakfast blood glucose measurement                             -0.033227  \n",
              "Pre-lunch blood glucose measurement                                  0.375736  \n",
              "Pre-supper blood glucose measurement                                 1.000000  "
            ],
            "text/html": [
              "\n",
              "  <div id=\"df-fffc58ac-9bde-451e-ad27-48b44ad56aa8\">\n",
              "    <div class=\"colab-df-container\">\n",
              "      <div>\n",
              "<style scoped>\n",
              "    .dataframe tbody tr th:only-of-type {\n",
              "        vertical-align: middle;\n",
              "    }\n",
              "\n",
              "    .dataframe tbody tr th {\n",
              "        vertical-align: top;\n",
              "    }\n",
              "\n",
              "    .dataframe thead th {\n",
              "        text-align: right;\n",
              "    }\n",
              "</style>\n",
              "<table border=\"1\" class=\"dataframe\">\n",
              "  <thead>\n",
              "    <tr style=\"text-align: right;\">\n",
              "      <th></th>\n",
              "      <th>Regular insulin dose</th>\n",
              "      <th>NPH insulin dose</th>\n",
              "      <th>Unspecified blood glucose measurement</th>\n",
              "      <th>Pre-breakfast blood glucose measurement</th>\n",
              "      <th>Pre-lunch blood glucose measurement</th>\n",
              "      <th>Pre-supper blood glucose measurement</th>\n",
              "    </tr>\n",
              "  </thead>\n",
              "  <tbody>\n",
              "    <tr>\n",
              "      <th>Regular insulin dose</th>\n",
              "      <td>1.000000</td>\n",
              "      <td>-0.234688</td>\n",
              "      <td>-0.046592</td>\n",
              "      <td>0.190824</td>\n",
              "      <td>-0.022933</td>\n",
              "      <td>-0.122394</td>\n",
              "    </tr>\n",
              "    <tr>\n",
              "      <th>NPH insulin dose</th>\n",
              "      <td>-0.234688</td>\n",
              "      <td>1.000000</td>\n",
              "      <td>0.292873</td>\n",
              "      <td>-0.224276</td>\n",
              "      <td>0.539769</td>\n",
              "      <td>0.431198</td>\n",
              "    </tr>\n",
              "    <tr>\n",
              "      <th>Unspecified blood glucose measurement</th>\n",
              "      <td>-0.046592</td>\n",
              "      <td>0.292873</td>\n",
              "      <td>1.000000</td>\n",
              "      <td>0.067276</td>\n",
              "      <td>0.147036</td>\n",
              "      <td>0.363452</td>\n",
              "    </tr>\n",
              "    <tr>\n",
              "      <th>Pre-breakfast blood glucose measurement</th>\n",
              "      <td>0.190824</td>\n",
              "      <td>-0.224276</td>\n",
              "      <td>0.067276</td>\n",
              "      <td>1.000000</td>\n",
              "      <td>-0.040093</td>\n",
              "      <td>-0.033227</td>\n",
              "    </tr>\n",
              "    <tr>\n",
              "      <th>Pre-lunch blood glucose measurement</th>\n",
              "      <td>-0.022933</td>\n",
              "      <td>0.539769</td>\n",
              "      <td>0.147036</td>\n",
              "      <td>-0.040093</td>\n",
              "      <td>1.000000</td>\n",
              "      <td>0.375736</td>\n",
              "    </tr>\n",
              "    <tr>\n",
              "      <th>Pre-supper blood glucose measurement</th>\n",
              "      <td>-0.122394</td>\n",
              "      <td>0.431198</td>\n",
              "      <td>0.363452</td>\n",
              "      <td>-0.033227</td>\n",
              "      <td>0.375736</td>\n",
              "      <td>1.000000</td>\n",
              "    </tr>\n",
              "  </tbody>\n",
              "</table>\n",
              "</div>\n",
              "      <button class=\"colab-df-convert\" onclick=\"convertToInteractive('df-fffc58ac-9bde-451e-ad27-48b44ad56aa8')\"\n",
              "              title=\"Convert this dataframe to an interactive table.\"\n",
              "              style=\"display:none;\">\n",
              "        \n",
              "  <svg xmlns=\"http://www.w3.org/2000/svg\" height=\"24px\"viewBox=\"0 0 24 24\"\n",
              "       width=\"24px\">\n",
              "    <path d=\"M0 0h24v24H0V0z\" fill=\"none\"/>\n",
              "    <path d=\"M18.56 5.44l.94 2.06.94-2.06 2.06-.94-2.06-.94-.94-2.06-.94 2.06-2.06.94zm-11 1L8.5 8.5l.94-2.06 2.06-.94-2.06-.94L8.5 2.5l-.94 2.06-2.06.94zm10 10l.94 2.06.94-2.06 2.06-.94-2.06-.94-.94-2.06-.94 2.06-2.06.94z\"/><path d=\"M17.41 7.96l-1.37-1.37c-.4-.4-.92-.59-1.43-.59-.52 0-1.04.2-1.43.59L10.3 9.45l-7.72 7.72c-.78.78-.78 2.05 0 2.83L4 21.41c.39.39.9.59 1.41.59.51 0 1.02-.2 1.41-.59l7.78-7.78 2.81-2.81c.8-.78.8-2.07 0-2.86zM5.41 20L4 18.59l7.72-7.72 1.47 1.35L5.41 20z\"/>\n",
              "  </svg>\n",
              "      </button>\n",
              "      \n",
              "  <style>\n",
              "    .colab-df-container {\n",
              "      display:flex;\n",
              "      flex-wrap:wrap;\n",
              "      gap: 12px;\n",
              "    }\n",
              "\n",
              "    .colab-df-convert {\n",
              "      background-color: #E8F0FE;\n",
              "      border: none;\n",
              "      border-radius: 50%;\n",
              "      cursor: pointer;\n",
              "      display: none;\n",
              "      fill: #1967D2;\n",
              "      height: 32px;\n",
              "      padding: 0 0 0 0;\n",
              "      width: 32px;\n",
              "    }\n",
              "\n",
              "    .colab-df-convert:hover {\n",
              "      background-color: #E2EBFA;\n",
              "      box-shadow: 0px 1px 2px rgba(60, 64, 67, 0.3), 0px 1px 3px 1px rgba(60, 64, 67, 0.15);\n",
              "      fill: #174EA6;\n",
              "    }\n",
              "\n",
              "    [theme=dark] .colab-df-convert {\n",
              "      background-color: #3B4455;\n",
              "      fill: #D2E3FC;\n",
              "    }\n",
              "\n",
              "    [theme=dark] .colab-df-convert:hover {\n",
              "      background-color: #434B5C;\n",
              "      box-shadow: 0px 1px 3px 1px rgba(0, 0, 0, 0.15);\n",
              "      filter: drop-shadow(0px 1px 2px rgba(0, 0, 0, 0.3));\n",
              "      fill: #FFFFFF;\n",
              "    }\n",
              "  </style>\n",
              "\n",
              "      <script>\n",
              "        const buttonEl =\n",
              "          document.querySelector('#df-fffc58ac-9bde-451e-ad27-48b44ad56aa8 button.colab-df-convert');\n",
              "        buttonEl.style.display =\n",
              "          google.colab.kernel.accessAllowed ? 'block' : 'none';\n",
              "\n",
              "        async function convertToInteractive(key) {\n",
              "          const element = document.querySelector('#df-fffc58ac-9bde-451e-ad27-48b44ad56aa8');\n",
              "          const dataTable =\n",
              "            await google.colab.kernel.invokeFunction('convertToInteractive',\n",
              "                                                     [key], {});\n",
              "          if (!dataTable) return;\n",
              "\n",
              "          const docLinkHtml = 'Like what you see? Visit the ' +\n",
              "            '<a target=\"_blank\" href=https://colab.research.google.com/notebooks/data_table.ipynb>data table notebook</a>'\n",
              "            + ' to learn more about interactive tables.';\n",
              "          element.innerHTML = '';\n",
              "          dataTable['output_type'] = 'display_data';\n",
              "          await google.colab.output.renderOutput(dataTable, element);\n",
              "          const docLink = document.createElement('div');\n",
              "          docLink.innerHTML = docLinkHtml;\n",
              "          element.appendChild(docLink);\n",
              "        }\n",
              "      </script>\n",
              "    </div>\n",
              "  </div>\n",
              "  "
            ]
          },
          "metadata": {},
          "execution_count": 95
        }
      ]
    },
    {
      "cell_type": "code",
      "source": [
        "sb.heatmap(sp.corr(), cmap='coolwarm',annot=True)"
      ],
      "metadata": {
        "colab": {
          "base_uri": "https://localhost:8080/",
          "height": 488
        },
        "id": "_4PRnwSqbdJQ",
        "outputId": "b1c9c297-f393-4936-e719-0ec1115b9582"
      },
      "execution_count": 96,
      "outputs": [
        {
          "output_type": "execute_result",
          "data": {
            "text/plain": [
              "<matplotlib.axes._subplots.AxesSubplot at 0x7f833c173690>"
            ]
          },
          "metadata": {},
          "execution_count": 96
        },
        {
          "output_type": "display_data",
          "data": {
            "text/plain": [
              "<Figure size 432x288 with 2 Axes>"
            ],
            "image/png": "[encoded data removed]"
          },
          "metadata": {
            "needs_background": "light"
          }
        }
      ]
    },
    {
      "cell_type": "code",
      "source": [
        "plt.scatter(sp['Pre-supper blood glucose measurement'], sp['Unspecified blood glucose measurement'],color='red')\n",
        "plt.show()"
      ],
      "metadata": {
        "colab": {
          "base_uri": "https://localhost:8080/",
          "height": 265
        },
        "id": "oqO32BNiT2EZ",
        "outputId": "523e2e8b-c811-4f58-9dc8-98e34d402a6f"
      },
      "execution_count": 97,
      "outputs": [
        {
          "output_type": "display_data",
          "data": {
            "text/plain": [
              "<Figure size 432x288 with 1 Axes>"
            ],
            "image/png": "[encoded data removed]"
          },
          "metadata": {
            "needs_background": "light"
          }
        }
      ]
    },
    {
      "cell_type": "markdown",
      "source": [
        "**From the Correlation of each pair the Unspecified blood glucose measurement and Pre-supper blood glucose measurement\t have  the positive correlation of  0.38.\n",
        "Lets us  fit a linear regression line for these two attributes. ***"
      ],
      "metadata": {
        "id": "uH7KVpSUfLro"
      }
    },
    {
      "cell_type": "code",
      "source": [
        "\n",
        "x=sp['Pre-supper blood glucose measurement']\n",
        "y=sp['Unspecified blood glucose measurement']\n"
      ],
      "metadata": {
        "id": "tI4wglSiavZf"
      },
      "execution_count": 98,
      "outputs": []
    },
    {
      "cell_type": "code",
      "source": [
        "\n",
        "n=len(x)\n",
        "sxy,sx2=0,0\n",
        "sx,sy=0,0\n",
        "for i in range(0,n):\n",
        "  sx+=x[i]\n",
        "  sy+=y[i]\n",
        "  m=x[i]*y[i]\n",
        "  sxy+=m\n",
        "  sx2+=(x[i]*x[i])\n",
        "up=(n*sxy)-(sx*sy)\n",
        "dn=(n*sx2)-(sx*sx)\n",
        "slope=up/dn\n",
        "intercept=(sy/n)-(slope*(sx/n))\n",
        "print(round(slope,3))\n",
        "print(round(intercept,3))\n",
        "def fun(x):\n",
        "  equ=(slope*x)+(intercept)\n",
        "  return equ\n",
        "print(\"Equation : \",round(slope,3) ,\"* x +\",round(intercept,3))\n",
        "print(fun(100))\n",
        "\n",
        "\n"
      ],
      "metadata": {
        "colab": {
          "base_uri": "https://localhost:8080/"
        },
        "id": "ik1gmojdelum",
        "outputId": "ae5122af-0063-4e41-ee89-8844de15730b"
      },
      "execution_count": 99,
      "outputs": [
        {
          "output_type": "stream",
          "name": "stdout",
          "text": [
            "0.341\n",
            "95.362\n",
            "Equation :  0.341 * x + 95.362\n",
            "129.46856290158325\n"
          ]
        }
      ]
    },
    {
      "cell_type": "code",
      "source": [
        "plt.scatter(x, y)\n",
        "def myfunc(x):\n",
        "  return slope * x + intercept\n",
        "mymodel = list(map(myfunc, x))\n",
        "plt.plot(x,mymodel)\n",
        "plt.show()"
      ],
      "metadata": {
        "colab": {
          "base_uri": "https://localhost:8080/",
          "height": 265
        },
        "id": "NqO5JzYXe49c",
        "outputId": "7e87a997-388f-44ab-e7ae-43df93651e75"
      },
      "execution_count": 100,
      "outputs": [
        {
          "output_type": "display_data",
          "data": {
            "text/plain": [
              "<Figure size 432x288 with 1 Axes>"
            ],
            "image/png": "[encoded data removed]"
          },
          "metadata": {
            "needs_background": "light"
          }
        }
      ]
    }
  ]
}